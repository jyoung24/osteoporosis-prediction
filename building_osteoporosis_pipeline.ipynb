{
 "cells": [
  {
   "cell_type": "markdown",
   "metadata": {},
   "source": [
    "# Predicting Osteoporosis Pipeline"
   ]
  },
  {
   "cell_type": "code",
   "execution_count": 1,
   "metadata": {},
   "outputs": [],
   "source": [
    "import pandas as pd\n",
    "from sklearn.model_selection import train_test_split\n",
    "from sklearn.preprocessing import OneHotEncoder\n",
    "from sklearn.pipeline import Pipeline\n",
    "from sklearn.preprocessing import StandardScaler\n",
    "from sklearn.impute import SimpleImputer\n",
    "from sklearn.compose import ColumnTransformer\n",
    "from sklearn.linear_model import LogisticRegression\n",
    "from sklearn.ensemble import RandomForestClassifier\n",
    "from sklearn.tree import DecisionTreeClassifier\n",
    "from sklearn.metrics import f1_score\n",
    "from sklearn.model_selection import cross_val_score\n",
    "from sklearn.metrics import confusion_matrix, ConfusionMatrixDisplay, accuracy_score\n",
    "import matplotlib.pyplot as plt\n",
    "import pickle"
   ]
  },
  {
   "cell_type": "markdown",
   "metadata": {},
   "source": [
    "### Loading, exploration, cleaning, and preparation"
   ]
  },
  {
   "cell_type": "code",
   "execution_count": 2,
   "metadata": {},
   "outputs": [],
   "source": [
    "# loading the dataset\n",
    "df = pd.read_csv('osteoporosis_data.csv')"
   ]
  },
  {
   "cell_type": "code",
   "execution_count": 3,
   "metadata": {},
   "outputs": [
    {
     "data": {
      "text/plain": [
       "(1566, 16)"
      ]
     },
     "execution_count": 3,
     "metadata": {},
     "output_type": "execute_result"
    }
   ],
   "source": [
    "# looking at the size of the dataset\n",
    "df.shape"
   ]
  },
  {
   "cell_type": "code",
   "execution_count": 4,
   "metadata": {},
   "outputs": [
    {
     "data": {
      "text/html": [
       "<div>\n",
       "<style scoped>\n",
       "    .dataframe tbody tr th:only-of-type {\n",
       "        vertical-align: middle;\n",
       "    }\n",
       "\n",
       "    .dataframe tbody tr th {\n",
       "        vertical-align: top;\n",
       "    }\n",
       "\n",
       "    .dataframe thead th {\n",
       "        text-align: right;\n",
       "    }\n",
       "</style>\n",
       "<table border=\"1\" class=\"dataframe\">\n",
       "  <thead>\n",
       "    <tr style=\"text-align: right;\">\n",
       "      <th></th>\n",
       "      <th>Id</th>\n",
       "      <th>Age</th>\n",
       "      <th>Gender</th>\n",
       "      <th>Hormonal Changes</th>\n",
       "      <th>Family History</th>\n",
       "      <th>Race/Ethnicity</th>\n",
       "      <th>Body Weight</th>\n",
       "      <th>Calcium Intake</th>\n",
       "      <th>Vitamin D Intake</th>\n",
       "      <th>Physical Activity</th>\n",
       "      <th>Smoking</th>\n",
       "      <th>Alcohol Consumption</th>\n",
       "      <th>Medical Conditions</th>\n",
       "      <th>Medications</th>\n",
       "      <th>Prior Fractures</th>\n",
       "      <th>Osteoporosis</th>\n",
       "    </tr>\n",
       "  </thead>\n",
       "  <tbody>\n",
       "    <tr>\n",
       "      <th>0</th>\n",
       "      <td>1734616</td>\n",
       "      <td>69</td>\n",
       "      <td>Female</td>\n",
       "      <td>Normal</td>\n",
       "      <td>Yes</td>\n",
       "      <td>Asian</td>\n",
       "      <td>Underweight</td>\n",
       "      <td>Low</td>\n",
       "      <td>Sufficient</td>\n",
       "      <td>Sedentary</td>\n",
       "      <td>Yes</td>\n",
       "      <td>Moderate</td>\n",
       "      <td>Rheumatoid Arthritis</td>\n",
       "      <td>Corticosteroids</td>\n",
       "      <td>Yes</td>\n",
       "      <td>1</td>\n",
       "    </tr>\n",
       "    <tr>\n",
       "      <th>1</th>\n",
       "      <td>1419098</td>\n",
       "      <td>32</td>\n",
       "      <td>Female</td>\n",
       "      <td>Normal</td>\n",
       "      <td>Yes</td>\n",
       "      <td>Asian</td>\n",
       "      <td>Underweight</td>\n",
       "      <td>Low</td>\n",
       "      <td>Sufficient</td>\n",
       "      <td>Sedentary</td>\n",
       "      <td>No</td>\n",
       "      <td>NaN</td>\n",
       "      <td>NaN</td>\n",
       "      <td>NaN</td>\n",
       "      <td>Yes</td>\n",
       "      <td>1</td>\n",
       "    </tr>\n",
       "    <tr>\n",
       "      <th>2</th>\n",
       "      <td>1797916</td>\n",
       "      <td>89</td>\n",
       "      <td>Female</td>\n",
       "      <td>Postmenopausal</td>\n",
       "      <td>No</td>\n",
       "      <td>Caucasian</td>\n",
       "      <td>Normal</td>\n",
       "      <td>Adequate</td>\n",
       "      <td>Sufficient</td>\n",
       "      <td>Active</td>\n",
       "      <td>No</td>\n",
       "      <td>Moderate</td>\n",
       "      <td>Hyperthyroidism</td>\n",
       "      <td>Corticosteroids</td>\n",
       "      <td>No</td>\n",
       "      <td>1</td>\n",
       "    </tr>\n",
       "    <tr>\n",
       "      <th>3</th>\n",
       "      <td>1805337</td>\n",
       "      <td>78</td>\n",
       "      <td>Female</td>\n",
       "      <td>Normal</td>\n",
       "      <td>No</td>\n",
       "      <td>Caucasian</td>\n",
       "      <td>Underweight</td>\n",
       "      <td>Adequate</td>\n",
       "      <td>Insufficient</td>\n",
       "      <td>Sedentary</td>\n",
       "      <td>Yes</td>\n",
       "      <td>NaN</td>\n",
       "      <td>Rheumatoid Arthritis</td>\n",
       "      <td>Corticosteroids</td>\n",
       "      <td>No</td>\n",
       "      <td>1</td>\n",
       "    </tr>\n",
       "    <tr>\n",
       "      <th>4</th>\n",
       "      <td>1799320</td>\n",
       "      <td>41</td>\n",
       "      <td>Male</td>\n",
       "      <td>Normal</td>\n",
       "      <td>Yes</td>\n",
       "      <td>Caucasian</td>\n",
       "      <td>Normal</td>\n",
       "      <td>Low</td>\n",
       "      <td>Sufficient</td>\n",
       "      <td>Active</td>\n",
       "      <td>Yes</td>\n",
       "      <td>Moderate</td>\n",
       "      <td>Rheumatoid Arthritis</td>\n",
       "      <td>Corticosteroids</td>\n",
       "      <td>Yes</td>\n",
       "      <td>1</td>\n",
       "    </tr>\n",
       "  </tbody>\n",
       "</table>\n",
       "</div>"
      ],
      "text/plain": [
       "        Id  Age  Gender Hormonal Changes Family History Race/Ethnicity  \\\n",
       "0  1734616   69  Female           Normal            Yes          Asian   \n",
       "1  1419098   32  Female           Normal            Yes          Asian   \n",
       "2  1797916   89  Female   Postmenopausal             No      Caucasian   \n",
       "3  1805337   78  Female           Normal             No      Caucasian   \n",
       "4  1799320   41    Male           Normal            Yes      Caucasian   \n",
       "\n",
       "   Body Weight Calcium Intake Vitamin D Intake Physical Activity Smoking  \\\n",
       "0  Underweight            Low       Sufficient         Sedentary     Yes   \n",
       "1  Underweight            Low       Sufficient         Sedentary      No   \n",
       "2       Normal       Adequate       Sufficient            Active      No   \n",
       "3  Underweight       Adequate     Insufficient         Sedentary     Yes   \n",
       "4       Normal            Low       Sufficient            Active     Yes   \n",
       "\n",
       "  Alcohol Consumption    Medical Conditions      Medications Prior Fractures  \\\n",
       "0            Moderate  Rheumatoid Arthritis  Corticosteroids             Yes   \n",
       "1                 NaN                   NaN              NaN             Yes   \n",
       "2            Moderate       Hyperthyroidism  Corticosteroids              No   \n",
       "3                 NaN  Rheumatoid Arthritis  Corticosteroids              No   \n",
       "4            Moderate  Rheumatoid Arthritis  Corticosteroids             Yes   \n",
       "\n",
       "   Osteoporosis  \n",
       "0             1  \n",
       "1             1  \n",
       "2             1  \n",
       "3             1  \n",
       "4             1  "
      ]
     },
     "execution_count": 4,
     "metadata": {},
     "output_type": "execute_result"
    }
   ],
   "source": [
    "# looking at first few records\n",
    "df.head()"
   ]
  },
  {
   "cell_type": "code",
   "execution_count": 5,
   "metadata": {},
   "outputs": [
    {
     "data": {
      "text/html": [
       "<div>\n",
       "<style scoped>\n",
       "    .dataframe tbody tr th:only-of-type {\n",
       "        vertical-align: middle;\n",
       "    }\n",
       "\n",
       "    .dataframe tbody tr th {\n",
       "        vertical-align: top;\n",
       "    }\n",
       "\n",
       "    .dataframe thead th {\n",
       "        text-align: right;\n",
       "    }\n",
       "</style>\n",
       "<table border=\"1\" class=\"dataframe\">\n",
       "  <thead>\n",
       "    <tr style=\"text-align: right;\">\n",
       "      <th></th>\n",
       "      <th>Id</th>\n",
       "      <th>Age</th>\n",
       "      <th>Gender</th>\n",
       "      <th>Hormonal Changes</th>\n",
       "      <th>Family History</th>\n",
       "      <th>Race/Ethnicity</th>\n",
       "      <th>Body Weight</th>\n",
       "      <th>Calcium Intake</th>\n",
       "      <th>Vitamin D Intake</th>\n",
       "      <th>Physical Activity</th>\n",
       "      <th>Smoking</th>\n",
       "      <th>Alcohol Consumption</th>\n",
       "      <th>Medical Conditions</th>\n",
       "      <th>Medications</th>\n",
       "      <th>Prior Fractures</th>\n",
       "      <th>Osteoporosis</th>\n",
       "    </tr>\n",
       "  </thead>\n",
       "  <tbody>\n",
       "    <tr>\n",
       "      <th>505</th>\n",
       "      <td>1104327</td>\n",
       "      <td>68</td>\n",
       "      <td>Male</td>\n",
       "      <td>Normal</td>\n",
       "      <td>No</td>\n",
       "      <td>Caucasian</td>\n",
       "      <td>Normal</td>\n",
       "      <td>Adequate</td>\n",
       "      <td>Sufficient</td>\n",
       "      <td>Active</td>\n",
       "      <td>No</td>\n",
       "      <td>NaN</td>\n",
       "      <td>Hyperthyroidism</td>\n",
       "      <td>NaN</td>\n",
       "      <td>Yes</td>\n",
       "      <td>1</td>\n",
       "    </tr>\n",
       "    <tr>\n",
       "      <th>815</th>\n",
       "      <td>1571488</td>\n",
       "      <td>18</td>\n",
       "      <td>Male</td>\n",
       "      <td>Normal</td>\n",
       "      <td>No</td>\n",
       "      <td>Caucasian</td>\n",
       "      <td>Underweight</td>\n",
       "      <td>Low</td>\n",
       "      <td>Sufficient</td>\n",
       "      <td>Sedentary</td>\n",
       "      <td>Yes</td>\n",
       "      <td>Moderate</td>\n",
       "      <td>Rheumatoid Arthritis</td>\n",
       "      <td>NaN</td>\n",
       "      <td>No</td>\n",
       "      <td>0</td>\n",
       "    </tr>\n",
       "    <tr>\n",
       "      <th>585</th>\n",
       "      <td>1482002</td>\n",
       "      <td>76</td>\n",
       "      <td>Male</td>\n",
       "      <td>Normal</td>\n",
       "      <td>Yes</td>\n",
       "      <td>Asian</td>\n",
       "      <td>Normal</td>\n",
       "      <td>Low</td>\n",
       "      <td>Insufficient</td>\n",
       "      <td>Sedentary</td>\n",
       "      <td>No</td>\n",
       "      <td>NaN</td>\n",
       "      <td>Rheumatoid Arthritis</td>\n",
       "      <td>NaN</td>\n",
       "      <td>No</td>\n",
       "      <td>1</td>\n",
       "    </tr>\n",
       "    <tr>\n",
       "      <th>278</th>\n",
       "      <td>1376473</td>\n",
       "      <td>57</td>\n",
       "      <td>Male</td>\n",
       "      <td>Normal</td>\n",
       "      <td>Yes</td>\n",
       "      <td>African American</td>\n",
       "      <td>Normal</td>\n",
       "      <td>Adequate</td>\n",
       "      <td>Sufficient</td>\n",
       "      <td>Active</td>\n",
       "      <td>No</td>\n",
       "      <td>NaN</td>\n",
       "      <td>Rheumatoid Arthritis</td>\n",
       "      <td>NaN</td>\n",
       "      <td>No</td>\n",
       "      <td>1</td>\n",
       "    </tr>\n",
       "    <tr>\n",
       "      <th>49</th>\n",
       "      <td>1986851</td>\n",
       "      <td>35</td>\n",
       "      <td>Male</td>\n",
       "      <td>Postmenopausal</td>\n",
       "      <td>No</td>\n",
       "      <td>Caucasian</td>\n",
       "      <td>Underweight</td>\n",
       "      <td>Low</td>\n",
       "      <td>Insufficient</td>\n",
       "      <td>Sedentary</td>\n",
       "      <td>No</td>\n",
       "      <td>NaN</td>\n",
       "      <td>Rheumatoid Arthritis</td>\n",
       "      <td>NaN</td>\n",
       "      <td>No</td>\n",
       "      <td>1</td>\n",
       "    </tr>\n",
       "    <tr>\n",
       "      <th>80</th>\n",
       "      <td>1234987</td>\n",
       "      <td>40</td>\n",
       "      <td>Female</td>\n",
       "      <td>Postmenopausal</td>\n",
       "      <td>Yes</td>\n",
       "      <td>Caucasian</td>\n",
       "      <td>Underweight</td>\n",
       "      <td>Low</td>\n",
       "      <td>Insufficient</td>\n",
       "      <td>Active</td>\n",
       "      <td>No</td>\n",
       "      <td>Moderate</td>\n",
       "      <td>Hyperthyroidism</td>\n",
       "      <td>NaN</td>\n",
       "      <td>Yes</td>\n",
       "      <td>1</td>\n",
       "    </tr>\n",
       "    <tr>\n",
       "      <th>866</th>\n",
       "      <td>1496517</td>\n",
       "      <td>20</td>\n",
       "      <td>Female</td>\n",
       "      <td>Normal</td>\n",
       "      <td>Yes</td>\n",
       "      <td>Asian</td>\n",
       "      <td>Normal</td>\n",
       "      <td>Low</td>\n",
       "      <td>Insufficient</td>\n",
       "      <td>Active</td>\n",
       "      <td>No</td>\n",
       "      <td>NaN</td>\n",
       "      <td>NaN</td>\n",
       "      <td>Corticosteroids</td>\n",
       "      <td>Yes</td>\n",
       "      <td>0</td>\n",
       "    </tr>\n",
       "    <tr>\n",
       "      <th>314</th>\n",
       "      <td>1719175</td>\n",
       "      <td>86</td>\n",
       "      <td>Female</td>\n",
       "      <td>Normal</td>\n",
       "      <td>No</td>\n",
       "      <td>Asian</td>\n",
       "      <td>Normal</td>\n",
       "      <td>Adequate</td>\n",
       "      <td>Sufficient</td>\n",
       "      <td>Active</td>\n",
       "      <td>Yes</td>\n",
       "      <td>NaN</td>\n",
       "      <td>Hyperthyroidism</td>\n",
       "      <td>Corticosteroids</td>\n",
       "      <td>No</td>\n",
       "      <td>1</td>\n",
       "    </tr>\n",
       "    <tr>\n",
       "      <th>995</th>\n",
       "      <td>1650070</td>\n",
       "      <td>20</td>\n",
       "      <td>Female</td>\n",
       "      <td>Postmenopausal</td>\n",
       "      <td>Yes</td>\n",
       "      <td>African American</td>\n",
       "      <td>Normal</td>\n",
       "      <td>Low</td>\n",
       "      <td>Insufficient</td>\n",
       "      <td>Active</td>\n",
       "      <td>Yes</td>\n",
       "      <td>Moderate</td>\n",
       "      <td>NaN</td>\n",
       "      <td>Corticosteroids</td>\n",
       "      <td>No</td>\n",
       "      <td>0</td>\n",
       "    </tr>\n",
       "    <tr>\n",
       "      <th>190</th>\n",
       "      <td>1904899</td>\n",
       "      <td>50</td>\n",
       "      <td>Male</td>\n",
       "      <td>Postmenopausal</td>\n",
       "      <td>Yes</td>\n",
       "      <td>African American</td>\n",
       "      <td>Normal</td>\n",
       "      <td>Adequate</td>\n",
       "      <td>Sufficient</td>\n",
       "      <td>Sedentary</td>\n",
       "      <td>No</td>\n",
       "      <td>Moderate</td>\n",
       "      <td>NaN</td>\n",
       "      <td>Corticosteroids</td>\n",
       "      <td>No</td>\n",
       "      <td>1</td>\n",
       "    </tr>\n",
       "  </tbody>\n",
       "</table>\n",
       "</div>"
      ],
      "text/plain": [
       "          Id  Age  Gender Hormonal Changes Family History    Race/Ethnicity  \\\n",
       "505  1104327   68    Male           Normal             No         Caucasian   \n",
       "815  1571488   18    Male           Normal             No         Caucasian   \n",
       "585  1482002   76    Male           Normal            Yes             Asian   \n",
       "278  1376473   57    Male           Normal            Yes  African American   \n",
       "49   1986851   35    Male   Postmenopausal             No         Caucasian   \n",
       "80   1234987   40  Female   Postmenopausal            Yes         Caucasian   \n",
       "866  1496517   20  Female           Normal            Yes             Asian   \n",
       "314  1719175   86  Female           Normal             No             Asian   \n",
       "995  1650070   20  Female   Postmenopausal            Yes  African American   \n",
       "190  1904899   50    Male   Postmenopausal            Yes  African American   \n",
       "\n",
       "     Body Weight Calcium Intake Vitamin D Intake Physical Activity Smoking  \\\n",
       "505       Normal       Adequate       Sufficient            Active      No   \n",
       "815  Underweight            Low       Sufficient         Sedentary     Yes   \n",
       "585       Normal            Low     Insufficient         Sedentary      No   \n",
       "278       Normal       Adequate       Sufficient            Active      No   \n",
       "49   Underweight            Low     Insufficient         Sedentary      No   \n",
       "80   Underweight            Low     Insufficient            Active      No   \n",
       "866       Normal            Low     Insufficient            Active      No   \n",
       "314       Normal       Adequate       Sufficient            Active     Yes   \n",
       "995       Normal            Low     Insufficient            Active     Yes   \n",
       "190       Normal       Adequate       Sufficient         Sedentary      No   \n",
       "\n",
       "    Alcohol Consumption    Medical Conditions      Medications  \\\n",
       "505                 NaN       Hyperthyroidism              NaN   \n",
       "815            Moderate  Rheumatoid Arthritis              NaN   \n",
       "585                 NaN  Rheumatoid Arthritis              NaN   \n",
       "278                 NaN  Rheumatoid Arthritis              NaN   \n",
       "49                  NaN  Rheumatoid Arthritis              NaN   \n",
       "80             Moderate       Hyperthyroidism              NaN   \n",
       "866                 NaN                   NaN  Corticosteroids   \n",
       "314                 NaN       Hyperthyroidism  Corticosteroids   \n",
       "995            Moderate                   NaN  Corticosteroids   \n",
       "190            Moderate                   NaN  Corticosteroids   \n",
       "\n",
       "    Prior Fractures  Osteoporosis  \n",
       "505             Yes             1  \n",
       "815              No             0  \n",
       "585              No             1  \n",
       "278              No             1  \n",
       "49               No             1  \n",
       "80              Yes             1  \n",
       "866             Yes             0  \n",
       "314              No             1  \n",
       "995              No             0  \n",
       "190              No             1  "
      ]
     },
     "execution_count": 5,
     "metadata": {},
     "output_type": "execute_result"
    }
   ],
   "source": [
    "# looking at random sample of 10 records\n",
    "df.sample(10)"
   ]
  },
  {
   "cell_type": "code",
   "execution_count": 6,
   "metadata": {},
   "outputs": [],
   "source": [
    "# removing id variable\n",
    "df.drop(columns=['Id'], inplace=True)"
   ]
  },
  {
   "cell_type": "code",
   "execution_count": 7,
   "metadata": {},
   "outputs": [
    {
     "data": {
      "text/html": [
       "<div>\n",
       "<style scoped>\n",
       "    .dataframe tbody tr th:only-of-type {\n",
       "        vertical-align: middle;\n",
       "    }\n",
       "\n",
       "    .dataframe tbody tr th {\n",
       "        vertical-align: top;\n",
       "    }\n",
       "\n",
       "    .dataframe thead th {\n",
       "        text-align: right;\n",
       "    }\n",
       "</style>\n",
       "<table border=\"1\" class=\"dataframe\">\n",
       "  <thead>\n",
       "    <tr style=\"text-align: right;\">\n",
       "      <th></th>\n",
       "      <th>Age</th>\n",
       "      <th>Osteoporosis</th>\n",
       "    </tr>\n",
       "  </thead>\n",
       "  <tbody>\n",
       "    <tr>\n",
       "      <th>count</th>\n",
       "      <td>1566.000000</td>\n",
       "      <td>1566.000000</td>\n",
       "    </tr>\n",
       "    <tr>\n",
       "      <th>mean</th>\n",
       "      <td>39.134738</td>\n",
       "      <td>0.503831</td>\n",
       "    </tr>\n",
       "    <tr>\n",
       "      <th>std</th>\n",
       "      <td>21.269856</td>\n",
       "      <td>0.500145</td>\n",
       "    </tr>\n",
       "    <tr>\n",
       "      <th>min</th>\n",
       "      <td>18.000000</td>\n",
       "      <td>0.000000</td>\n",
       "    </tr>\n",
       "    <tr>\n",
       "      <th>25%</th>\n",
       "      <td>21.000000</td>\n",
       "      <td>0.000000</td>\n",
       "    </tr>\n",
       "    <tr>\n",
       "      <th>50%</th>\n",
       "      <td>32.000000</td>\n",
       "      <td>1.000000</td>\n",
       "    </tr>\n",
       "    <tr>\n",
       "      <th>75%</th>\n",
       "      <td>53.750000</td>\n",
       "      <td>1.000000</td>\n",
       "    </tr>\n",
       "    <tr>\n",
       "      <th>max</th>\n",
       "      <td>90.000000</td>\n",
       "      <td>1.000000</td>\n",
       "    </tr>\n",
       "  </tbody>\n",
       "</table>\n",
       "</div>"
      ],
      "text/plain": [
       "               Age  Osteoporosis\n",
       "count  1566.000000   1566.000000\n",
       "mean     39.134738      0.503831\n",
       "std      21.269856      0.500145\n",
       "min      18.000000      0.000000\n",
       "25%      21.000000      0.000000\n",
       "50%      32.000000      1.000000\n",
       "75%      53.750000      1.000000\n",
       "max      90.000000      1.000000"
      ]
     },
     "execution_count": 7,
     "metadata": {},
     "output_type": "execute_result"
    }
   ],
   "source": [
    "# looking at the numeric variables\n",
    "df.describe()"
   ]
  },
  {
   "cell_type": "code",
   "execution_count": 8,
   "metadata": {},
   "outputs": [
    {
     "data": {
      "text/plain": [
       "Age                     int64\n",
       "Gender                 object\n",
       "Hormonal Changes       object\n",
       "Family History         object\n",
       "Race/Ethnicity         object\n",
       "Body Weight            object\n",
       "Calcium Intake         object\n",
       "Vitamin D Intake       object\n",
       "Physical Activity      object\n",
       "Smoking                object\n",
       "Alcohol Consumption    object\n",
       "Medical Conditions     object\n",
       "Medications            object\n",
       "Prior Fractures        object\n",
       "Osteoporosis            int64\n",
       "dtype: object"
      ]
     },
     "execution_count": 8,
     "metadata": {},
     "output_type": "execute_result"
    }
   ],
   "source": [
    "# looking at data types of the variables\n",
    "df.dtypes"
   ]
  },
  {
   "cell_type": "code",
   "execution_count": 9,
   "metadata": {},
   "outputs": [
    {
     "data": {
      "text/plain": [
       "Age                      0\n",
       "Gender                   0\n",
       "Hormonal Changes         0\n",
       "Family History           0\n",
       "Race/Ethnicity           0\n",
       "Body Weight              0\n",
       "Calcium Intake           0\n",
       "Vitamin D Intake         0\n",
       "Physical Activity        0\n",
       "Smoking                  0\n",
       "Alcohol Consumption    781\n",
       "Medical Conditions     518\n",
       "Medications            772\n",
       "Prior Fractures          0\n",
       "Osteoporosis             0\n",
       "dtype: int64"
      ]
     },
     "execution_count": 9,
     "metadata": {},
     "output_type": "execute_result"
    }
   ],
   "source": [
    "# checking for any NA values\n",
    "df.isna().sum()"
   ]
  },
  {
   "cell_type": "code",
   "execution_count": 10,
   "metadata": {},
   "outputs": [],
   "source": [
    "# replacing NA values with \"None\", as this is the actual meaning in the context of the variables\n",
    "df['Alcohol Consumption'] = df['Alcohol Consumption'].where(pd.notna(df['Alcohol Consumption']), \"None\")\n",
    "df['Medical Conditions'] = df['Medical Conditions'].where(pd.notna(df['Medical Conditions']), \"None\")\n",
    "df['Medications'] = df['Medications'].where(pd.notna(df['Medications']), \"None\")"
   ]
  },
  {
   "cell_type": "code",
   "execution_count": 11,
   "metadata": {},
   "outputs": [
    {
     "data": {
      "text/plain": [
       "Age                    0\n",
       "Gender                 0\n",
       "Hormonal Changes       0\n",
       "Family History         0\n",
       "Race/Ethnicity         0\n",
       "Body Weight            0\n",
       "Calcium Intake         0\n",
       "Vitamin D Intake       0\n",
       "Physical Activity      0\n",
       "Smoking                0\n",
       "Alcohol Consumption    0\n",
       "Medical Conditions     0\n",
       "Medications            0\n",
       "Prior Fractures        0\n",
       "Osteoporosis           0\n",
       "dtype: int64"
      ]
     },
     "execution_count": 11,
     "metadata": {},
     "output_type": "execute_result"
    }
   ],
   "source": [
    "# checking NA values again\n",
    "df.isna().sum()"
   ]
  },
  {
   "cell_type": "code",
   "execution_count": 12,
   "metadata": {},
   "outputs": [
    {
     "data": {
      "text/plain": [
       "Age                    73\n",
       "Gender                  2\n",
       "Hormonal Changes        2\n",
       "Family History          2\n",
       "Race/Ethnicity          3\n",
       "Body Weight             2\n",
       "Calcium Intake          2\n",
       "Vitamin D Intake        2\n",
       "Physical Activity       2\n",
       "Smoking                 2\n",
       "Alcohol Consumption     2\n",
       "Medical Conditions      3\n",
       "Medications             2\n",
       "Prior Fractures         2\n",
       "Osteoporosis            2\n",
       "dtype: int64"
      ]
     },
     "execution_count": 12,
     "metadata": {},
     "output_type": "execute_result"
    }
   ],
   "source": [
    "# looking at unique values for each variable\n",
    "df.nunique()"
   ]
  },
  {
   "cell_type": "code",
   "execution_count": 13,
   "metadata": {},
   "outputs": [
    {
     "data": {
      "text/plain": [
       "array(['Normal', 'Postmenopausal'], dtype=object)"
      ]
     },
     "execution_count": 13,
     "metadata": {},
     "output_type": "execute_result"
    }
   ],
   "source": [
    "# looking at the unique values of categorical variables\n",
    "df['Hormonal Changes'].unique()"
   ]
  },
  {
   "cell_type": "code",
   "execution_count": 14,
   "metadata": {},
   "outputs": [
    {
     "data": {
      "text/plain": [
       "array(['Yes', 'No'], dtype=object)"
      ]
     },
     "execution_count": 14,
     "metadata": {},
     "output_type": "execute_result"
    }
   ],
   "source": [
    "df['Family History'].unique()"
   ]
  },
  {
   "cell_type": "code",
   "execution_count": 15,
   "metadata": {},
   "outputs": [
    {
     "data": {
      "text/plain": [
       "array(['Asian', 'Caucasian', 'African American'], dtype=object)"
      ]
     },
     "execution_count": 15,
     "metadata": {},
     "output_type": "execute_result"
    }
   ],
   "source": [
    "df['Race/Ethnicity'].unique()"
   ]
  },
  {
   "cell_type": "code",
   "execution_count": 16,
   "metadata": {},
   "outputs": [
    {
     "data": {
      "text/plain": [
       "array(['Underweight', 'Normal'], dtype=object)"
      ]
     },
     "execution_count": 16,
     "metadata": {},
     "output_type": "execute_result"
    }
   ],
   "source": [
    "df['Body Weight'].unique()"
   ]
  },
  {
   "cell_type": "code",
   "execution_count": 17,
   "metadata": {},
   "outputs": [
    {
     "data": {
      "text/plain": [
       "array(['Low', 'Adequate'], dtype=object)"
      ]
     },
     "execution_count": 17,
     "metadata": {},
     "output_type": "execute_result"
    }
   ],
   "source": [
    "df['Calcium Intake'].unique()"
   ]
  },
  {
   "cell_type": "code",
   "execution_count": 18,
   "metadata": {},
   "outputs": [
    {
     "data": {
      "text/plain": [
       "array(['Sufficient', 'Insufficient'], dtype=object)"
      ]
     },
     "execution_count": 18,
     "metadata": {},
     "output_type": "execute_result"
    }
   ],
   "source": [
    "df['Vitamin D Intake'].unique()"
   ]
  },
  {
   "cell_type": "code",
   "execution_count": 19,
   "metadata": {},
   "outputs": [
    {
     "data": {
      "text/plain": [
       "array(['Sedentary', 'Active'], dtype=object)"
      ]
     },
     "execution_count": 19,
     "metadata": {},
     "output_type": "execute_result"
    }
   ],
   "source": [
    "df['Physical Activity'].unique()"
   ]
  },
  {
   "cell_type": "code",
   "execution_count": 20,
   "metadata": {},
   "outputs": [
    {
     "data": {
      "text/plain": [
       "array(['Yes', 'No'], dtype=object)"
      ]
     },
     "execution_count": 20,
     "metadata": {},
     "output_type": "execute_result"
    }
   ],
   "source": [
    "df['Smoking'].unique()"
   ]
  },
  {
   "cell_type": "code",
   "execution_count": 21,
   "metadata": {},
   "outputs": [
    {
     "data": {
      "text/plain": [
       "array(['Moderate', 'None'], dtype=object)"
      ]
     },
     "execution_count": 21,
     "metadata": {},
     "output_type": "execute_result"
    }
   ],
   "source": [
    "df['Alcohol Consumption'].unique()"
   ]
  },
  {
   "cell_type": "code",
   "execution_count": 22,
   "metadata": {},
   "outputs": [
    {
     "data": {
      "text/plain": [
       "array(['Rheumatoid Arthritis', 'None', 'Hyperthyroidism'], dtype=object)"
      ]
     },
     "execution_count": 22,
     "metadata": {},
     "output_type": "execute_result"
    }
   ],
   "source": [
    "df['Medical Conditions'].unique()"
   ]
  },
  {
   "cell_type": "code",
   "execution_count": 23,
   "metadata": {},
   "outputs": [
    {
     "data": {
      "text/plain": [
       "array(['Corticosteroids', 'None'], dtype=object)"
      ]
     },
     "execution_count": 23,
     "metadata": {},
     "output_type": "execute_result"
    }
   ],
   "source": [
    "df['Medications'].unique()"
   ]
  },
  {
   "cell_type": "code",
   "execution_count": 24,
   "metadata": {},
   "outputs": [
    {
     "data": {
      "text/plain": [
       "array(['Yes', 'No'], dtype=object)"
      ]
     },
     "execution_count": 24,
     "metadata": {},
     "output_type": "execute_result"
    }
   ],
   "source": [
    "df['Prior Fractures'].unique()"
   ]
  },
  {
   "cell_type": "code",
   "execution_count": 25,
   "metadata": {},
   "outputs": [],
   "source": [
    "# creating feature set by dropping the outcome variable\n",
    "X = df.drop('Osteoporosis', axis='columns')\n",
    "# copying the outcome variable to y\n",
    "y = df.Osteoporosis"
   ]
  },
  {
   "cell_type": "code",
   "execution_count": 26,
   "metadata": {},
   "outputs": [],
   "source": [
    "# splitting the training data into 70%-30% splits\n",
    "X_train, X_test, y_train, y_test = train_test_split(X, y, test_size = 0.3, stratify=y)"
   ]
  },
  {
   "cell_type": "markdown",
   "metadata": {},
   "source": [
    "### Building the ML pipeline"
   ]
  },
  {
   "cell_type": "code",
   "execution_count": 27,
   "metadata": {},
   "outputs": [],
   "source": [
    "# encoding all categoric variables\n",
    "column_transformer = ColumnTransformer([\n",
    "    ('cat', OneHotEncoder(), ['Gender',\n",
    "                              'Hormonal Changes',\n",
    "                              'Family History',\n",
    "                              'Race/Ethnicity',\n",
    "                              'Body Weight',\n",
    "                              'Calcium Intake',\n",
    "                              'Vitamin D Intake',\n",
    "                              'Physical Activity',\n",
    "                              'Smoking',\n",
    "                              'Alcohol Consumption',\n",
    "                              'Medical Conditions',\n",
    "                              'Medications',\n",
    "                              'Prior Fractures'])\n",
    "])"
   ]
  },
  {
   "cell_type": "code",
   "execution_count": 28,
   "metadata": {},
   "outputs": [],
   "source": [
    "# creating a pipeline using Logistic Regression\n",
    "pipeline_LR = Pipeline([\n",
    "    ('ct', column_transformer),\n",
    "    ('clf', LogisticRegression(max_iter=1000))\n",
    "])"
   ]
  },
  {
   "cell_type": "code",
   "execution_count": 29,
   "metadata": {},
   "outputs": [],
   "source": [
    "# creating a pipeline using Random Forest Regressor\n",
    "pipeline_RF = Pipeline([\n",
    "    ('ct', column_transformer),\n",
    "    ('clf', RandomForestClassifier())\n",
    "])"
   ]
  },
  {
   "cell_type": "code",
   "execution_count": 30,
   "metadata": {},
   "outputs": [],
   "source": [
    "# creating a pipeline using Decision Tree Regressor\n",
    "pipeline_DT = Pipeline([\n",
    "    ('ct', column_transformer),\n",
    "    ('clf', DecisionTreeClassifier())\n",
    "])"
   ]
  },
  {
   "cell_type": "markdown",
   "metadata": {},
   "source": [
    "### Fitting the ML model pipeline and checking cross validation accuracy"
   ]
  },
  {
   "cell_type": "code",
   "execution_count": 31,
   "metadata": {},
   "outputs": [
    {
     "data": {
      "text/html": [
       "<style>#sk-container-id-1 {color: black;}#sk-container-id-1 pre{padding: 0;}#sk-container-id-1 div.sk-toggleable {background-color: white;}#sk-container-id-1 label.sk-toggleable__label {cursor: pointer;display: block;width: 100%;margin-bottom: 0;padding: 0.3em;box-sizing: border-box;text-align: center;}#sk-container-id-1 label.sk-toggleable__label-arrow:before {content: \"▸\";float: left;margin-right: 0.25em;color: #696969;}#sk-container-id-1 label.sk-toggleable__label-arrow:hover:before {color: black;}#sk-container-id-1 div.sk-estimator:hover label.sk-toggleable__label-arrow:before {color: black;}#sk-container-id-1 div.sk-toggleable__content {max-height: 0;max-width: 0;overflow: hidden;text-align: left;background-color: #f0f8ff;}#sk-container-id-1 div.sk-toggleable__content pre {margin: 0.2em;color: black;border-radius: 0.25em;background-color: #f0f8ff;}#sk-container-id-1 input.sk-toggleable__control:checked~div.sk-toggleable__content {max-height: 200px;max-width: 100%;overflow: auto;}#sk-container-id-1 input.sk-toggleable__control:checked~label.sk-toggleable__label-arrow:before {content: \"▾\";}#sk-container-id-1 div.sk-estimator input.sk-toggleable__control:checked~label.sk-toggleable__label {background-color: #d4ebff;}#sk-container-id-1 div.sk-label input.sk-toggleable__control:checked~label.sk-toggleable__label {background-color: #d4ebff;}#sk-container-id-1 input.sk-hidden--visually {border: 0;clip: rect(1px 1px 1px 1px);clip: rect(1px, 1px, 1px, 1px);height: 1px;margin: -1px;overflow: hidden;padding: 0;position: absolute;width: 1px;}#sk-container-id-1 div.sk-estimator {font-family: monospace;background-color: #f0f8ff;border: 1px dotted black;border-radius: 0.25em;box-sizing: border-box;margin-bottom: 0.5em;}#sk-container-id-1 div.sk-estimator:hover {background-color: #d4ebff;}#sk-container-id-1 div.sk-parallel-item::after {content: \"\";width: 100%;border-bottom: 1px solid gray;flex-grow: 1;}#sk-container-id-1 div.sk-label:hover label.sk-toggleable__label {background-color: #d4ebff;}#sk-container-id-1 div.sk-serial::before {content: \"\";position: absolute;border-left: 1px solid gray;box-sizing: border-box;top: 0;bottom: 0;left: 50%;z-index: 0;}#sk-container-id-1 div.sk-serial {display: flex;flex-direction: column;align-items: center;background-color: white;padding-right: 0.2em;padding-left: 0.2em;position: relative;}#sk-container-id-1 div.sk-item {position: relative;z-index: 1;}#sk-container-id-1 div.sk-parallel {display: flex;align-items: stretch;justify-content: center;background-color: white;position: relative;}#sk-container-id-1 div.sk-item::before, #sk-container-id-1 div.sk-parallel-item::before {content: \"\";position: absolute;border-left: 1px solid gray;box-sizing: border-box;top: 0;bottom: 0;left: 50%;z-index: -1;}#sk-container-id-1 div.sk-parallel-item {display: flex;flex-direction: column;z-index: 1;position: relative;background-color: white;}#sk-container-id-1 div.sk-parallel-item:first-child::after {align-self: flex-end;width: 50%;}#sk-container-id-1 div.sk-parallel-item:last-child::after {align-self: flex-start;width: 50%;}#sk-container-id-1 div.sk-parallel-item:only-child::after {width: 0;}#sk-container-id-1 div.sk-dashed-wrapped {border: 1px dashed gray;margin: 0 0.4em 0.5em 0.4em;box-sizing: border-box;padding-bottom: 0.4em;background-color: white;}#sk-container-id-1 div.sk-label label {font-family: monospace;font-weight: bold;display: inline-block;line-height: 1.2em;}#sk-container-id-1 div.sk-label-container {text-align: center;}#sk-container-id-1 div.sk-container {/* jupyter's `normalize.less` sets `[hidden] { display: none; }` but bootstrap.min.css set `[hidden] { display: none !important; }` so we also need the `!important` here to be able to override the default hidden behavior on the sphinx rendered scikit-learn.org. See: https://github.com/scikit-learn/scikit-learn/issues/21755 */display: inline-block !important;position: relative;}#sk-container-id-1 div.sk-text-repr-fallback {display: none;}</style><div id=\"sk-container-id-1\" class=\"sk-top-container\"><div class=\"sk-text-repr-fallback\"><pre>Pipeline(steps=[(&#x27;ct&#x27;,\n",
       "                 ColumnTransformer(transformers=[(&#x27;cat&#x27;, OneHotEncoder(),\n",
       "                                                  [&#x27;Gender&#x27;, &#x27;Hormonal Changes&#x27;,\n",
       "                                                   &#x27;Family History&#x27;,\n",
       "                                                   &#x27;Race/Ethnicity&#x27;,\n",
       "                                                   &#x27;Body Weight&#x27;,\n",
       "                                                   &#x27;Calcium Intake&#x27;,\n",
       "                                                   &#x27;Vitamin D Intake&#x27;,\n",
       "                                                   &#x27;Physical Activity&#x27;,\n",
       "                                                   &#x27;Smoking&#x27;,\n",
       "                                                   &#x27;Alcohol Consumption&#x27;,\n",
       "                                                   &#x27;Medical Conditions&#x27;,\n",
       "                                                   &#x27;Medications&#x27;,\n",
       "                                                   &#x27;Prior Fractures&#x27;])])),\n",
       "                (&#x27;clf&#x27;, DecisionTreeClassifier())])</pre><b>In a Jupyter environment, please rerun this cell to show the HTML representation or trust the notebook. <br />On GitHub, the HTML representation is unable to render, please try loading this page with nbviewer.org.</b></div><div class=\"sk-container\" hidden><div class=\"sk-item sk-dashed-wrapped\"><div class=\"sk-label-container\"><div class=\"sk-label sk-toggleable\"><input class=\"sk-toggleable__control sk-hidden--visually\" id=\"sk-estimator-id-1\" type=\"checkbox\" ><label for=\"sk-estimator-id-1\" class=\"sk-toggleable__label sk-toggleable__label-arrow\">Pipeline</label><div class=\"sk-toggleable__content\"><pre>Pipeline(steps=[(&#x27;ct&#x27;,\n",
       "                 ColumnTransformer(transformers=[(&#x27;cat&#x27;, OneHotEncoder(),\n",
       "                                                  [&#x27;Gender&#x27;, &#x27;Hormonal Changes&#x27;,\n",
       "                                                   &#x27;Family History&#x27;,\n",
       "                                                   &#x27;Race/Ethnicity&#x27;,\n",
       "                                                   &#x27;Body Weight&#x27;,\n",
       "                                                   &#x27;Calcium Intake&#x27;,\n",
       "                                                   &#x27;Vitamin D Intake&#x27;,\n",
       "                                                   &#x27;Physical Activity&#x27;,\n",
       "                                                   &#x27;Smoking&#x27;,\n",
       "                                                   &#x27;Alcohol Consumption&#x27;,\n",
       "                                                   &#x27;Medical Conditions&#x27;,\n",
       "                                                   &#x27;Medications&#x27;,\n",
       "                                                   &#x27;Prior Fractures&#x27;])])),\n",
       "                (&#x27;clf&#x27;, DecisionTreeClassifier())])</pre></div></div></div><div class=\"sk-serial\"><div class=\"sk-item sk-dashed-wrapped\"><div class=\"sk-label-container\"><div class=\"sk-label sk-toggleable\"><input class=\"sk-toggleable__control sk-hidden--visually\" id=\"sk-estimator-id-2\" type=\"checkbox\" ><label for=\"sk-estimator-id-2\" class=\"sk-toggleable__label sk-toggleable__label-arrow\">ct: ColumnTransformer</label><div class=\"sk-toggleable__content\"><pre>ColumnTransformer(transformers=[(&#x27;cat&#x27;, OneHotEncoder(),\n",
       "                                 [&#x27;Gender&#x27;, &#x27;Hormonal Changes&#x27;,\n",
       "                                  &#x27;Family History&#x27;, &#x27;Race/Ethnicity&#x27;,\n",
       "                                  &#x27;Body Weight&#x27;, &#x27;Calcium Intake&#x27;,\n",
       "                                  &#x27;Vitamin D Intake&#x27;, &#x27;Physical Activity&#x27;,\n",
       "                                  &#x27;Smoking&#x27;, &#x27;Alcohol Consumption&#x27;,\n",
       "                                  &#x27;Medical Conditions&#x27;, &#x27;Medications&#x27;,\n",
       "                                  &#x27;Prior Fractures&#x27;])])</pre></div></div></div><div class=\"sk-parallel\"><div class=\"sk-parallel-item\"><div class=\"sk-item\"><div class=\"sk-label-container\"><div class=\"sk-label sk-toggleable\"><input class=\"sk-toggleable__control sk-hidden--visually\" id=\"sk-estimator-id-3\" type=\"checkbox\" ><label for=\"sk-estimator-id-3\" class=\"sk-toggleable__label sk-toggleable__label-arrow\">cat</label><div class=\"sk-toggleable__content\"><pre>[&#x27;Gender&#x27;, &#x27;Hormonal Changes&#x27;, &#x27;Family History&#x27;, &#x27;Race/Ethnicity&#x27;, &#x27;Body Weight&#x27;, &#x27;Calcium Intake&#x27;, &#x27;Vitamin D Intake&#x27;, &#x27;Physical Activity&#x27;, &#x27;Smoking&#x27;, &#x27;Alcohol Consumption&#x27;, &#x27;Medical Conditions&#x27;, &#x27;Medications&#x27;, &#x27;Prior Fractures&#x27;]</pre></div></div></div><div class=\"sk-serial\"><div class=\"sk-item\"><div class=\"sk-estimator sk-toggleable\"><input class=\"sk-toggleable__control sk-hidden--visually\" id=\"sk-estimator-id-4\" type=\"checkbox\" ><label for=\"sk-estimator-id-4\" class=\"sk-toggleable__label sk-toggleable__label-arrow\">OneHotEncoder</label><div class=\"sk-toggleable__content\"><pre>OneHotEncoder()</pre></div></div></div></div></div></div></div></div><div class=\"sk-item\"><div class=\"sk-estimator sk-toggleable\"><input class=\"sk-toggleable__control sk-hidden--visually\" id=\"sk-estimator-id-5\" type=\"checkbox\" ><label for=\"sk-estimator-id-5\" class=\"sk-toggleable__label sk-toggleable__label-arrow\">DecisionTreeClassifier</label><div class=\"sk-toggleable__content\"><pre>DecisionTreeClassifier()</pre></div></div></div></div></div></div></div>"
      ],
      "text/plain": [
       "Pipeline(steps=[('ct',\n",
       "                 ColumnTransformer(transformers=[('cat', OneHotEncoder(),\n",
       "                                                  ['Gender', 'Hormonal Changes',\n",
       "                                                   'Family History',\n",
       "                                                   'Race/Ethnicity',\n",
       "                                                   'Body Weight',\n",
       "                                                   'Calcium Intake',\n",
       "                                                   'Vitamin D Intake',\n",
       "                                                   'Physical Activity',\n",
       "                                                   'Smoking',\n",
       "                                                   'Alcohol Consumption',\n",
       "                                                   'Medical Conditions',\n",
       "                                                   'Medications',\n",
       "                                                   'Prior Fractures'])])),\n",
       "                ('clf', DecisionTreeClassifier())])"
      ]
     },
     "execution_count": 31,
     "metadata": {},
     "output_type": "execute_result"
    }
   ],
   "source": [
    "# fitting the pipeline\n",
    "pipeline_LR.fit(X_train, y_train)\n",
    "pipeline_RF.fit(X_train, y_train)\n",
    "pipeline_DT.fit(X_train, y_train)"
   ]
  },
  {
   "cell_type": "code",
   "execution_count": 32,
   "metadata": {},
   "outputs": [],
   "source": [
    "scores_LR = cross_val_score(pipeline_LR, X_train, y_train, scoring='accuracy', cv=5)\n",
    "scores_RF = cross_val_score(pipeline_RF, X_train, y_train, scoring='accuracy', cv=5)\n",
    "scores_DT = cross_val_score(pipeline_DT, X_train, y_train, scoring='accuracy', cv=5)"
   ]
  },
  {
   "cell_type": "code",
   "execution_count": 33,
   "metadata": {},
   "outputs": [
    {
     "name": "stdout",
     "output_type": "stream",
     "text": [
      "Accuracy (LR): 0.5073059360730593\n",
      "Accuracy (RF): 0.4999916977999169\n",
      "Accuracy (DT): 0.5026857617268575\n"
     ]
    }
   ],
   "source": [
    "# model training accuracy\n",
    "mean_f1_LR = scores_LR.mean()\n",
    "mean_f1_RF = scores_RF.mean()\n",
    "mean_f1_DT = scores_DT.mean()\n",
    "\n",
    "print(\"Accuracy (LR):\", mean_f1_LR)\n",
    "print(\"Accuracy (RF):\", mean_f1_RF)\n",
    "print(\"Accuracy (DT):\", mean_f1_DT)"
   ]
  },
  {
   "cell_type": "markdown",
   "metadata": {},
   "source": [
    "## Attempting to improve model performance by tuning hyperparameters"
   ]
  },
  {
   "cell_type": "code",
   "execution_count": 34,
   "metadata": {},
   "outputs": [],
   "source": [
    "from sklearn.model_selection import GridSearchCV\n",
    "import numpy as np"
   ]
  },
  {
   "cell_type": "code",
   "execution_count": 35,
   "metadata": {},
   "outputs": [],
   "source": [
    "df_encoded = df.copy(deep=True)\n",
    "encoder = OneHotEncoder()\n",
    "df_encoded = pd.get_dummies(df_encoded, columns=['Gender', 'Hormonal Changes', 'Family History', 'Race/Ethnicity', 'Body Weight', 'Calcium Intake', 'Vitamin D Intake', 'Physical Activity', 'Smoking', 'Alcohol Consumption', 'Medical Conditions', 'Medications', 'Prior Fractures'])"
   ]
  },
  {
   "cell_type": "code",
   "execution_count": 36,
   "metadata": {},
   "outputs": [
    {
     "data": {
      "text/html": [
       "<div>\n",
       "<style scoped>\n",
       "    .dataframe tbody tr th:only-of-type {\n",
       "        vertical-align: middle;\n",
       "    }\n",
       "\n",
       "    .dataframe tbody tr th {\n",
       "        vertical-align: top;\n",
       "    }\n",
       "\n",
       "    .dataframe thead th {\n",
       "        text-align: right;\n",
       "    }\n",
       "</style>\n",
       "<table border=\"1\" class=\"dataframe\">\n",
       "  <thead>\n",
       "    <tr style=\"text-align: right;\">\n",
       "      <th></th>\n",
       "      <th>Age</th>\n",
       "      <th>Osteoporosis</th>\n",
       "      <th>Gender_Female</th>\n",
       "      <th>Gender_Male</th>\n",
       "      <th>Hormonal Changes_Normal</th>\n",
       "      <th>Hormonal Changes_Postmenopausal</th>\n",
       "      <th>Family History_No</th>\n",
       "      <th>Family History_Yes</th>\n",
       "      <th>Race/Ethnicity_African American</th>\n",
       "      <th>Race/Ethnicity_Asian</th>\n",
       "      <th>...</th>\n",
       "      <th>Smoking_Yes</th>\n",
       "      <th>Alcohol Consumption_Moderate</th>\n",
       "      <th>Alcohol Consumption_None</th>\n",
       "      <th>Medical Conditions_Hyperthyroidism</th>\n",
       "      <th>Medical Conditions_None</th>\n",
       "      <th>Medical Conditions_Rheumatoid Arthritis</th>\n",
       "      <th>Medications_Corticosteroids</th>\n",
       "      <th>Medications_None</th>\n",
       "      <th>Prior Fractures_No</th>\n",
       "      <th>Prior Fractures_Yes</th>\n",
       "    </tr>\n",
       "  </thead>\n",
       "  <tbody>\n",
       "    <tr>\n",
       "      <th>0</th>\n",
       "      <td>69</td>\n",
       "      <td>1</td>\n",
       "      <td>True</td>\n",
       "      <td>False</td>\n",
       "      <td>True</td>\n",
       "      <td>False</td>\n",
       "      <td>False</td>\n",
       "      <td>True</td>\n",
       "      <td>False</td>\n",
       "      <td>True</td>\n",
       "      <td>...</td>\n",
       "      <td>True</td>\n",
       "      <td>True</td>\n",
       "      <td>False</td>\n",
       "      <td>False</td>\n",
       "      <td>False</td>\n",
       "      <td>True</td>\n",
       "      <td>True</td>\n",
       "      <td>False</td>\n",
       "      <td>False</td>\n",
       "      <td>True</td>\n",
       "    </tr>\n",
       "    <tr>\n",
       "      <th>1</th>\n",
       "      <td>32</td>\n",
       "      <td>1</td>\n",
       "      <td>True</td>\n",
       "      <td>False</td>\n",
       "      <td>True</td>\n",
       "      <td>False</td>\n",
       "      <td>False</td>\n",
       "      <td>True</td>\n",
       "      <td>False</td>\n",
       "      <td>True</td>\n",
       "      <td>...</td>\n",
       "      <td>False</td>\n",
       "      <td>False</td>\n",
       "      <td>True</td>\n",
       "      <td>False</td>\n",
       "      <td>True</td>\n",
       "      <td>False</td>\n",
       "      <td>False</td>\n",
       "      <td>True</td>\n",
       "      <td>False</td>\n",
       "      <td>True</td>\n",
       "    </tr>\n",
       "    <tr>\n",
       "      <th>2</th>\n",
       "      <td>89</td>\n",
       "      <td>1</td>\n",
       "      <td>True</td>\n",
       "      <td>False</td>\n",
       "      <td>False</td>\n",
       "      <td>True</td>\n",
       "      <td>True</td>\n",
       "      <td>False</td>\n",
       "      <td>False</td>\n",
       "      <td>False</td>\n",
       "      <td>...</td>\n",
       "      <td>False</td>\n",
       "      <td>True</td>\n",
       "      <td>False</td>\n",
       "      <td>True</td>\n",
       "      <td>False</td>\n",
       "      <td>False</td>\n",
       "      <td>True</td>\n",
       "      <td>False</td>\n",
       "      <td>True</td>\n",
       "      <td>False</td>\n",
       "    </tr>\n",
       "    <tr>\n",
       "      <th>3</th>\n",
       "      <td>78</td>\n",
       "      <td>1</td>\n",
       "      <td>True</td>\n",
       "      <td>False</td>\n",
       "      <td>True</td>\n",
       "      <td>False</td>\n",
       "      <td>True</td>\n",
       "      <td>False</td>\n",
       "      <td>False</td>\n",
       "      <td>False</td>\n",
       "      <td>...</td>\n",
       "      <td>True</td>\n",
       "      <td>False</td>\n",
       "      <td>True</td>\n",
       "      <td>False</td>\n",
       "      <td>False</td>\n",
       "      <td>True</td>\n",
       "      <td>True</td>\n",
       "      <td>False</td>\n",
       "      <td>True</td>\n",
       "      <td>False</td>\n",
       "    </tr>\n",
       "    <tr>\n",
       "      <th>4</th>\n",
       "      <td>41</td>\n",
       "      <td>1</td>\n",
       "      <td>False</td>\n",
       "      <td>True</td>\n",
       "      <td>True</td>\n",
       "      <td>False</td>\n",
       "      <td>False</td>\n",
       "      <td>True</td>\n",
       "      <td>False</td>\n",
       "      <td>False</td>\n",
       "      <td>...</td>\n",
       "      <td>True</td>\n",
       "      <td>True</td>\n",
       "      <td>False</td>\n",
       "      <td>False</td>\n",
       "      <td>False</td>\n",
       "      <td>True</td>\n",
       "      <td>True</td>\n",
       "      <td>False</td>\n",
       "      <td>False</td>\n",
       "      <td>True</td>\n",
       "    </tr>\n",
       "  </tbody>\n",
       "</table>\n",
       "<p>5 rows × 30 columns</p>\n",
       "</div>"
      ],
      "text/plain": [
       "   Age  Osteoporosis  Gender_Female  Gender_Male  Hormonal Changes_Normal  \\\n",
       "0   69             1           True        False                     True   \n",
       "1   32             1           True        False                     True   \n",
       "2   89             1           True        False                    False   \n",
       "3   78             1           True        False                     True   \n",
       "4   41             1          False         True                     True   \n",
       "\n",
       "   Hormonal Changes_Postmenopausal  Family History_No  Family History_Yes  \\\n",
       "0                            False              False                True   \n",
       "1                            False              False                True   \n",
       "2                             True               True               False   \n",
       "3                            False               True               False   \n",
       "4                            False              False                True   \n",
       "\n",
       "   Race/Ethnicity_African American  Race/Ethnicity_Asian  ...  Smoking_Yes  \\\n",
       "0                            False                  True  ...         True   \n",
       "1                            False                  True  ...        False   \n",
       "2                            False                 False  ...        False   \n",
       "3                            False                 False  ...         True   \n",
       "4                            False                 False  ...         True   \n",
       "\n",
       "   Alcohol Consumption_Moderate  Alcohol Consumption_None  \\\n",
       "0                          True                     False   \n",
       "1                         False                      True   \n",
       "2                          True                     False   \n",
       "3                         False                      True   \n",
       "4                          True                     False   \n",
       "\n",
       "   Medical Conditions_Hyperthyroidism  Medical Conditions_None  \\\n",
       "0                               False                    False   \n",
       "1                               False                     True   \n",
       "2                                True                    False   \n",
       "3                               False                    False   \n",
       "4                               False                    False   \n",
       "\n",
       "   Medical Conditions_Rheumatoid Arthritis  Medications_Corticosteroids  \\\n",
       "0                                     True                         True   \n",
       "1                                    False                        False   \n",
       "2                                    False                         True   \n",
       "3                                     True                         True   \n",
       "4                                     True                         True   \n",
       "\n",
       "   Medications_None  Prior Fractures_No  Prior Fractures_Yes  \n",
       "0             False               False                 True  \n",
       "1              True               False                 True  \n",
       "2             False                True                False  \n",
       "3             False                True                False  \n",
       "4             False               False                 True  \n",
       "\n",
       "[5 rows x 30 columns]"
      ]
     },
     "execution_count": 36,
     "metadata": {},
     "output_type": "execute_result"
    }
   ],
   "source": [
    "df_encoded.head()"
   ]
  },
  {
   "cell_type": "code",
   "execution_count": 37,
   "metadata": {},
   "outputs": [],
   "source": [
    "# creating feature set by dropping the outcome variable\n",
    "X_encoded = df_encoded.drop('Osteoporosis', axis='columns')\n",
    "# copying the outcome variable to y\n",
    "y_encoded = df_encoded.Osteoporosis"
   ]
  },
  {
   "cell_type": "code",
   "execution_count": 38,
   "metadata": {},
   "outputs": [],
   "source": [
    "# splitting the training data into 70%-30% splits\n",
    "X_train_encoded, X_test_encoded, y_train_encoded, y_test_encoded = train_test_split(X_encoded, y_encoded, test_size = 0.3, stratify=y)"
   ]
  },
  {
   "cell_type": "code",
   "execution_count": 39,
   "metadata": {},
   "outputs": [
    {
     "name": "stdout",
     "output_type": "stream",
     "text": [
      "Best parameters are: {'criterion': 'entropy', 'max_depth': 6}\n",
      "The cross-validation accuracy is: 0.8978\n",
      "The testing accuracy is: 0.8851\n",
      "The confusion matrix is:\n",
      "[[225   8]\n",
      " [ 46 191]]\n"
     ]
    }
   ],
   "source": [
    "clf = DecisionTreeClassifier()\n",
    "\n",
    "param_grid = {\n",
    "    'criterion' : [\"gini\", \"entropy\"],\n",
    "    'max_depth': np.arange(2,21,1)\n",
    "}    \n",
    "\n",
    "grid = GridSearchCV(estimator = clf, param_grid = param_grid, cv=3)\n",
    "grid.fit(X_train_encoded, y_train_encoded)\n",
    "print(f\"Best parameters are: {grid.best_params_}\")\n",
    "print(f\"The cross-validation accuracy is: {round(grid.best_score_,4)}\")\n",
    "\n",
    "# evaluation\n",
    "y_predict_encoded = grid.best_estimator_.predict(X_test_encoded)\n",
    "print(f\"The testing accuracy is: {accuracy_score(y_test_encoded, y_predict_encoded).round(4)}\")\n",
    "print(\"The confusion matrix is:\")\n",
    "cm = confusion_matrix(y_test_encoded, y_predict_encoded)\n",
    "print(cm)"
   ]
  },
  {
   "cell_type": "code",
   "execution_count": 41,
   "metadata": {},
   "outputs": [
    {
     "name": "stdout",
     "output_type": "stream",
     "text": [
      "Best parameters are: {'criterion': 'entropy', 'max_depth': 4}\n",
      "The cross-validation accuracy is: 0.8631\n",
      "The testing accuracy is: 0.8468\n",
      "The confusion matrix is:\n",
      "[[232   1]\n",
      " [ 71 166]]\n"
     ]
    }
   ],
   "source": [
    "clf = RandomForestClassifier()\n",
    "\n",
    "param_grid = {\n",
    "    'criterion' : [\"gini\", \"entropy\"],\n",
    "    'max_depth': np.arange(2,21,1)\n",
    "}    \n",
    "\n",
    "grid = GridSearchCV(estimator = clf, param_grid = param_grid, cv=3)\n",
    "grid.fit(X_train_encoded, y_train_encoded)\n",
    "print(f\"Best parameters are: {grid.best_params_}\")\n",
    "print(f\"The cross-validation accuracy is: {round(grid.best_score_,4)}\")\n",
    "\n",
    "# evaluation\n",
    "y_predict_encoded = grid.best_estimator_.predict(X_test_encoded)\n",
    "print(f\"The testing accuracy is: {accuracy_score(y_test_encoded, y_predict_encoded).round(4)}\")\n",
    "print(\"The confusion matrix is:\")\n",
    "cm = confusion_matrix(y_test_encoded, y_predict_encoded)\n",
    "print(cm)"
   ]
  },
  {
   "cell_type": "markdown",
   "metadata": {},
   "source": [
    "## Building new pipelines with new hyperparameters"
   ]
  },
  {
   "cell_type": "code",
   "execution_count": 42,
   "metadata": {},
   "outputs": [],
   "source": [
    "# creating a pipeline using Logistic Regression\n",
    "pipeline_LR_2 = Pipeline([\n",
    "    ('clf', LogisticRegression(max_iter=1000))\n",
    "])"
   ]
  },
  {
   "cell_type": "code",
   "execution_count": 43,
   "metadata": {},
   "outputs": [],
   "source": [
    "# creating a pipeline using Random Forest Classifier\n",
    "pipeline_RF_2 = Pipeline([\n",
    "    ('clf', RandomForestClassifier(criterion='entropy', max_depth=4))\n",
    "])"
   ]
  },
  {
   "cell_type": "code",
   "execution_count": 44,
   "metadata": {},
   "outputs": [],
   "source": [
    "# creating a pipeline using Decision Tree Classifier\n",
    "pipeline_DT_2 = Pipeline([\n",
    "    ('clf', DecisionTreeClassifier(criterion='entropy', max_depth=6))\n",
    "])"
   ]
  },
  {
   "cell_type": "code",
   "execution_count": 45,
   "metadata": {},
   "outputs": [
    {
     "data": {
      "text/html": [
       "<style>#sk-container-id-2 {color: black;}#sk-container-id-2 pre{padding: 0;}#sk-container-id-2 div.sk-toggleable {background-color: white;}#sk-container-id-2 label.sk-toggleable__label {cursor: pointer;display: block;width: 100%;margin-bottom: 0;padding: 0.3em;box-sizing: border-box;text-align: center;}#sk-container-id-2 label.sk-toggleable__label-arrow:before {content: \"▸\";float: left;margin-right: 0.25em;color: #696969;}#sk-container-id-2 label.sk-toggleable__label-arrow:hover:before {color: black;}#sk-container-id-2 div.sk-estimator:hover label.sk-toggleable__label-arrow:before {color: black;}#sk-container-id-2 div.sk-toggleable__content {max-height: 0;max-width: 0;overflow: hidden;text-align: left;background-color: #f0f8ff;}#sk-container-id-2 div.sk-toggleable__content pre {margin: 0.2em;color: black;border-radius: 0.25em;background-color: #f0f8ff;}#sk-container-id-2 input.sk-toggleable__control:checked~div.sk-toggleable__content {max-height: 200px;max-width: 100%;overflow: auto;}#sk-container-id-2 input.sk-toggleable__control:checked~label.sk-toggleable__label-arrow:before {content: \"▾\";}#sk-container-id-2 div.sk-estimator input.sk-toggleable__control:checked~label.sk-toggleable__label {background-color: #d4ebff;}#sk-container-id-2 div.sk-label input.sk-toggleable__control:checked~label.sk-toggleable__label {background-color: #d4ebff;}#sk-container-id-2 input.sk-hidden--visually {border: 0;clip: rect(1px 1px 1px 1px);clip: rect(1px, 1px, 1px, 1px);height: 1px;margin: -1px;overflow: hidden;padding: 0;position: absolute;width: 1px;}#sk-container-id-2 div.sk-estimator {font-family: monospace;background-color: #f0f8ff;border: 1px dotted black;border-radius: 0.25em;box-sizing: border-box;margin-bottom: 0.5em;}#sk-container-id-2 div.sk-estimator:hover {background-color: #d4ebff;}#sk-container-id-2 div.sk-parallel-item::after {content: \"\";width: 100%;border-bottom: 1px solid gray;flex-grow: 1;}#sk-container-id-2 div.sk-label:hover label.sk-toggleable__label {background-color: #d4ebff;}#sk-container-id-2 div.sk-serial::before {content: \"\";position: absolute;border-left: 1px solid gray;box-sizing: border-box;top: 0;bottom: 0;left: 50%;z-index: 0;}#sk-container-id-2 div.sk-serial {display: flex;flex-direction: column;align-items: center;background-color: white;padding-right: 0.2em;padding-left: 0.2em;position: relative;}#sk-container-id-2 div.sk-item {position: relative;z-index: 1;}#sk-container-id-2 div.sk-parallel {display: flex;align-items: stretch;justify-content: center;background-color: white;position: relative;}#sk-container-id-2 div.sk-item::before, #sk-container-id-2 div.sk-parallel-item::before {content: \"\";position: absolute;border-left: 1px solid gray;box-sizing: border-box;top: 0;bottom: 0;left: 50%;z-index: -1;}#sk-container-id-2 div.sk-parallel-item {display: flex;flex-direction: column;z-index: 1;position: relative;background-color: white;}#sk-container-id-2 div.sk-parallel-item:first-child::after {align-self: flex-end;width: 50%;}#sk-container-id-2 div.sk-parallel-item:last-child::after {align-self: flex-start;width: 50%;}#sk-container-id-2 div.sk-parallel-item:only-child::after {width: 0;}#sk-container-id-2 div.sk-dashed-wrapped {border: 1px dashed gray;margin: 0 0.4em 0.5em 0.4em;box-sizing: border-box;padding-bottom: 0.4em;background-color: white;}#sk-container-id-2 div.sk-label label {font-family: monospace;font-weight: bold;display: inline-block;line-height: 1.2em;}#sk-container-id-2 div.sk-label-container {text-align: center;}#sk-container-id-2 div.sk-container {/* jupyter's `normalize.less` sets `[hidden] { display: none; }` but bootstrap.min.css set `[hidden] { display: none !important; }` so we also need the `!important` here to be able to override the default hidden behavior on the sphinx rendered scikit-learn.org. See: https://github.com/scikit-learn/scikit-learn/issues/21755 */display: inline-block !important;position: relative;}#sk-container-id-2 div.sk-text-repr-fallback {display: none;}</style><div id=\"sk-container-id-2\" class=\"sk-top-container\"><div class=\"sk-text-repr-fallback\"><pre>Pipeline(steps=[(&#x27;clf&#x27;,\n",
       "                 DecisionTreeClassifier(criterion=&#x27;entropy&#x27;, max_depth=6))])</pre><b>In a Jupyter environment, please rerun this cell to show the HTML representation or trust the notebook. <br />On GitHub, the HTML representation is unable to render, please try loading this page with nbviewer.org.</b></div><div class=\"sk-container\" hidden><div class=\"sk-item sk-dashed-wrapped\"><div class=\"sk-label-container\"><div class=\"sk-label sk-toggleable\"><input class=\"sk-toggleable__control sk-hidden--visually\" id=\"sk-estimator-id-6\" type=\"checkbox\" ><label for=\"sk-estimator-id-6\" class=\"sk-toggleable__label sk-toggleable__label-arrow\">Pipeline</label><div class=\"sk-toggleable__content\"><pre>Pipeline(steps=[(&#x27;clf&#x27;,\n",
       "                 DecisionTreeClassifier(criterion=&#x27;entropy&#x27;, max_depth=6))])</pre></div></div></div><div class=\"sk-serial\"><div class=\"sk-item\"><div class=\"sk-estimator sk-toggleable\"><input class=\"sk-toggleable__control sk-hidden--visually\" id=\"sk-estimator-id-7\" type=\"checkbox\" ><label for=\"sk-estimator-id-7\" class=\"sk-toggleable__label sk-toggleable__label-arrow\">DecisionTreeClassifier</label><div class=\"sk-toggleable__content\"><pre>DecisionTreeClassifier(criterion=&#x27;entropy&#x27;, max_depth=6)</pre></div></div></div></div></div></div></div>"
      ],
      "text/plain": [
       "Pipeline(steps=[('clf',\n",
       "                 DecisionTreeClassifier(criterion='entropy', max_depth=6))])"
      ]
     },
     "execution_count": 45,
     "metadata": {},
     "output_type": "execute_result"
    }
   ],
   "source": [
    "# fitting the pipeline\n",
    "pipeline_LR_2.fit(X_train_encoded, y_train_encoded)\n",
    "pipeline_RF_2.fit(X_train_encoded, y_train_encoded)\n",
    "pipeline_DT_2.fit(X_train_encoded, y_train_encoded)"
   ]
  },
  {
   "cell_type": "code",
   "execution_count": 46,
   "metadata": {},
   "outputs": [],
   "source": [
    "scores_LR_2 = cross_val_score(pipeline_LR_2, X_train_encoded, y_train_encoded, scoring='accuracy', cv=5)\n",
    "scores_RF_2 = cross_val_score(pipeline_RF_2, X_train_encoded, y_train_encoded, scoring='accuracy', cv=5)\n",
    "scores_DT_2 = cross_val_score(pipeline_DT_2, X_train_encoded, y_train_encoded, scoring='accuracy', cv=5)"
   ]
  },
  {
   "cell_type": "code",
   "execution_count": 47,
   "metadata": {},
   "outputs": [
    {
     "name": "stdout",
     "output_type": "stream",
     "text": [
      "Accuracy (LR): 0.8174968866749689\n",
      "Accuracy (RF): 0.8567413864674138\n",
      "Accuracy (DT): 0.8886550435865503\n"
     ]
    }
   ],
   "source": [
    "# model training accuracy\n",
    "mean_LR_2 = scores_LR_2.mean()\n",
    "mean_RF_2 = scores_RF_2.mean()\n",
    "mean_DT_2 = scores_DT_2.mean()\n",
    "\n",
    "print(\"Accuracy (LR):\", mean_LR_2)\n",
    "print(\"Accuracy (RF):\", mean_RF_2)\n",
    "print(\"Accuracy (DT):\", mean_DT_2)"
   ]
  },
  {
   "cell_type": "code",
   "execution_count": 48,
   "metadata": {},
   "outputs": [
    {
     "name": "stdout",
     "output_type": "stream",
     "text": [
      "Accuracy (LR): 0.8100596226844583\n",
      "Accuracy (RF): 0.8378918844953693\n",
      "Accuracy (DT): 0.877713768115942\n"
     ]
    }
   ],
   "source": [
    "f1_scores_LR_2 = cross_val_score(pipeline_LR_2, X_train_encoded, y_train_encoded, scoring='f1', cv=5)\n",
    "f1_scores_RF_2 = cross_val_score(pipeline_RF_2, X_train_encoded, y_train_encoded, scoring='f1', cv=5)\n",
    "f1_scores_DT_2 = cross_val_score(pipeline_DT_2, X_train_encoded, y_train_encoded, scoring='f1', cv=5)\n",
    "\n",
    "\n",
    "# model training accuracy\n",
    "mean_f1_LR_2 = f1_scores_LR_2.mean()\n",
    "mean_f1_RF_2 = f1_scores_RF_2.mean()\n",
    "mean_f1_DT_2 = f1_scores_DT_2.mean()\n",
    "\n",
    "print(\"F-1 Score (LR):\", mean_f1_LR_2)\n",
    "print(\"F-1 Score (RF):\", mean_f1_RF_2)\n",
    "print(\"F-1 Score (DT):\", mean_f1_DT_2)"
   ]
  },
  {
   "cell_type": "markdown",
   "metadata": {},
   "source": [
    "### Validating the model"
   ]
  },
  {
   "cell_type": "code",
   "execution_count": 49,
   "metadata": {},
   "outputs": [],
   "source": [
    "# predicting the outcome for validation set\n",
    "y_test_predicted_encoded = pipeline_DT_2.predict(X_test_encoded)"
   ]
  },
  {
   "cell_type": "code",
   "execution_count": 50,
   "metadata": {},
   "outputs": [
    {
     "data": {
      "text/plain": [
       "0.8851063829787233"
      ]
     },
     "execution_count": 50,
     "metadata": {},
     "output_type": "execute_result"
    }
   ],
   "source": [
    "# model validation accuracy\n",
    "accuracy_score(y_test_encoded, y_test_predicted_encoded)"
   ]
  },
  {
   "cell_type": "code",
   "execution_count": 55,
   "metadata": {},
   "outputs": [],
   "source": [
    "# saving the model pipeline to a file\n",
    "pickle.dump(pipeline_DT_2, open('pipeline.pkl', 'wb'))"
   ]
  },
  {
   "cell_type": "markdown",
   "metadata": {},
   "source": [
    "### Making sure testing data matches training/validation data"
   ]
  },
  {
   "cell_type": "code",
   "execution_count": 51,
   "metadata": {},
   "outputs": [],
   "source": [
    "df_test = pd.read_csv('osteoporosis_testing.csv')"
   ]
  },
  {
   "cell_type": "code",
   "execution_count": 52,
   "metadata": {},
   "outputs": [],
   "source": [
    "df_test.drop(columns=['Id'], inplace=True)\n",
    "df_test['Alcohol Consumption'] = df_test['Alcohol Consumption'].where(pd.notna(df_test['Alcohol Consumption']), \"None\")\n",
    "df_test['Medical Conditions'] = df_test['Medical Conditions'].where(pd.notna(df_test['Medical Conditions']), \"None\")\n",
    "df_test['Medications'] = df_test['Medications'].where(pd.notna(df_test['Medications']), \"None\")\n",
    "df_test = pd.get_dummies(df_test, columns=['Gender', 'Hormonal Changes', 'Family History', 'Race/Ethnicity', 'Body Weight', 'Calcium Intake', 'Vitamin D Intake', 'Physical Activity', 'Smoking', 'Alcohol Consumption', 'Medical Conditions', 'Medications', 'Prior Fractures'])"
   ]
  },
  {
   "cell_type": "code",
   "execution_count": 53,
   "metadata": {},
   "outputs": [
    {
     "data": {
      "text/html": [
       "<div>\n",
       "<style scoped>\n",
       "    .dataframe tbody tr th:only-of-type {\n",
       "        vertical-align: middle;\n",
       "    }\n",
       "\n",
       "    .dataframe tbody tr th {\n",
       "        vertical-align: top;\n",
       "    }\n",
       "\n",
       "    .dataframe thead th {\n",
       "        text-align: right;\n",
       "    }\n",
       "</style>\n",
       "<table border=\"1\" class=\"dataframe\">\n",
       "  <thead>\n",
       "    <tr style=\"text-align: right;\">\n",
       "      <th></th>\n",
       "      <th>Age</th>\n",
       "      <th>Osteoporosis</th>\n",
       "      <th>Gender_Female</th>\n",
       "      <th>Gender_Male</th>\n",
       "      <th>Hormonal Changes_Normal</th>\n",
       "      <th>Hormonal Changes_Postmenopausal</th>\n",
       "      <th>Family History_No</th>\n",
       "      <th>Family History_Yes</th>\n",
       "      <th>Race/Ethnicity_African American</th>\n",
       "      <th>Race/Ethnicity_Asian</th>\n",
       "      <th>...</th>\n",
       "      <th>Smoking_Yes</th>\n",
       "      <th>Alcohol Consumption_Moderate</th>\n",
       "      <th>Alcohol Consumption_None</th>\n",
       "      <th>Medical Conditions_Hyperthyroidism</th>\n",
       "      <th>Medical Conditions_None</th>\n",
       "      <th>Medical Conditions_Rheumatoid Arthritis</th>\n",
       "      <th>Medications_Corticosteroids</th>\n",
       "      <th>Medications_None</th>\n",
       "      <th>Prior Fractures_No</th>\n",
       "      <th>Prior Fractures_Yes</th>\n",
       "    </tr>\n",
       "  </thead>\n",
       "  <tbody>\n",
       "    <tr>\n",
       "      <th>0</th>\n",
       "      <td>62</td>\n",
       "      <td>1</td>\n",
       "      <td>False</td>\n",
       "      <td>True</td>\n",
       "      <td>True</td>\n",
       "      <td>False</td>\n",
       "      <td>True</td>\n",
       "      <td>False</td>\n",
       "      <td>False</td>\n",
       "      <td>True</td>\n",
       "      <td>...</td>\n",
       "      <td>True</td>\n",
       "      <td>False</td>\n",
       "      <td>True</td>\n",
       "      <td>False</td>\n",
       "      <td>False</td>\n",
       "      <td>True</td>\n",
       "      <td>True</td>\n",
       "      <td>False</td>\n",
       "      <td>False</td>\n",
       "      <td>True</td>\n",
       "    </tr>\n",
       "    <tr>\n",
       "      <th>1</th>\n",
       "      <td>21</td>\n",
       "      <td>1</td>\n",
       "      <td>False</td>\n",
       "      <td>True</td>\n",
       "      <td>True</td>\n",
       "      <td>False</td>\n",
       "      <td>False</td>\n",
       "      <td>True</td>\n",
       "      <td>False</td>\n",
       "      <td>True</td>\n",
       "      <td>...</td>\n",
       "      <td>True</td>\n",
       "      <td>False</td>\n",
       "      <td>True</td>\n",
       "      <td>True</td>\n",
       "      <td>False</td>\n",
       "      <td>False</td>\n",
       "      <td>True</td>\n",
       "      <td>False</td>\n",
       "      <td>True</td>\n",
       "      <td>False</td>\n",
       "    </tr>\n",
       "    <tr>\n",
       "      <th>2</th>\n",
       "      <td>18</td>\n",
       "      <td>0</td>\n",
       "      <td>True</td>\n",
       "      <td>False</td>\n",
       "      <td>False</td>\n",
       "      <td>True</td>\n",
       "      <td>True</td>\n",
       "      <td>False</td>\n",
       "      <td>True</td>\n",
       "      <td>False</td>\n",
       "      <td>...</td>\n",
       "      <td>False</td>\n",
       "      <td>True</td>\n",
       "      <td>False</td>\n",
       "      <td>False</td>\n",
       "      <td>False</td>\n",
       "      <td>True</td>\n",
       "      <td>True</td>\n",
       "      <td>False</td>\n",
       "      <td>False</td>\n",
       "      <td>True</td>\n",
       "    </tr>\n",
       "    <tr>\n",
       "      <th>3</th>\n",
       "      <td>34</td>\n",
       "      <td>1</td>\n",
       "      <td>True</td>\n",
       "      <td>False</td>\n",
       "      <td>False</td>\n",
       "      <td>True</td>\n",
       "      <td>True</td>\n",
       "      <td>False</td>\n",
       "      <td>True</td>\n",
       "      <td>False</td>\n",
       "      <td>...</td>\n",
       "      <td>False</td>\n",
       "      <td>False</td>\n",
       "      <td>True</td>\n",
       "      <td>True</td>\n",
       "      <td>False</td>\n",
       "      <td>False</td>\n",
       "      <td>False</td>\n",
       "      <td>True</td>\n",
       "      <td>False</td>\n",
       "      <td>True</td>\n",
       "    </tr>\n",
       "    <tr>\n",
       "      <th>4</th>\n",
       "      <td>28</td>\n",
       "      <td>1</td>\n",
       "      <td>True</td>\n",
       "      <td>False</td>\n",
       "      <td>True</td>\n",
       "      <td>False</td>\n",
       "      <td>False</td>\n",
       "      <td>True</td>\n",
       "      <td>True</td>\n",
       "      <td>False</td>\n",
       "      <td>...</td>\n",
       "      <td>True</td>\n",
       "      <td>True</td>\n",
       "      <td>False</td>\n",
       "      <td>False</td>\n",
       "      <td>True</td>\n",
       "      <td>False</td>\n",
       "      <td>True</td>\n",
       "      <td>False</td>\n",
       "      <td>True</td>\n",
       "      <td>False</td>\n",
       "    </tr>\n",
       "  </tbody>\n",
       "</table>\n",
       "<p>5 rows × 30 columns</p>\n",
       "</div>"
      ],
      "text/plain": [
       "   Age  Osteoporosis  Gender_Female  Gender_Male  Hormonal Changes_Normal  \\\n",
       "0   62             1          False         True                     True   \n",
       "1   21             1          False         True                     True   \n",
       "2   18             0           True        False                    False   \n",
       "3   34             1           True        False                    False   \n",
       "4   28             1           True        False                     True   \n",
       "\n",
       "   Hormonal Changes_Postmenopausal  Family History_No  Family History_Yes  \\\n",
       "0                            False               True               False   \n",
       "1                            False              False                True   \n",
       "2                             True               True               False   \n",
       "3                             True               True               False   \n",
       "4                            False              False                True   \n",
       "\n",
       "   Race/Ethnicity_African American  Race/Ethnicity_Asian  ...  Smoking_Yes  \\\n",
       "0                            False                  True  ...         True   \n",
       "1                            False                  True  ...         True   \n",
       "2                             True                 False  ...        False   \n",
       "3                             True                 False  ...        False   \n",
       "4                             True                 False  ...         True   \n",
       "\n",
       "   Alcohol Consumption_Moderate  Alcohol Consumption_None  \\\n",
       "0                         False                      True   \n",
       "1                         False                      True   \n",
       "2                          True                     False   \n",
       "3                         False                      True   \n",
       "4                          True                     False   \n",
       "\n",
       "   Medical Conditions_Hyperthyroidism  Medical Conditions_None  \\\n",
       "0                               False                    False   \n",
       "1                                True                    False   \n",
       "2                               False                    False   \n",
       "3                                True                    False   \n",
       "4                               False                     True   \n",
       "\n",
       "   Medical Conditions_Rheumatoid Arthritis  Medications_Corticosteroids  \\\n",
       "0                                     True                         True   \n",
       "1                                    False                         True   \n",
       "2                                     True                         True   \n",
       "3                                    False                        False   \n",
       "4                                    False                         True   \n",
       "\n",
       "   Medications_None  Prior Fractures_No  Prior Fractures_Yes  \n",
       "0             False               False                 True  \n",
       "1             False                True                False  \n",
       "2             False               False                 True  \n",
       "3              True               False                 True  \n",
       "4             False                True                False  \n",
       "\n",
       "[5 rows x 30 columns]"
      ]
     },
     "execution_count": 53,
     "metadata": {},
     "output_type": "execute_result"
    }
   ],
   "source": [
    "df_test.head()"
   ]
  },
  {
   "cell_type": "code",
   "execution_count": 56,
   "metadata": {},
   "outputs": [],
   "source": [
    "df_test.to_csv('osteoporosis_testing.csv', index=False)"
   ]
  },
  {
   "cell_type": "markdown",
   "metadata": {},
   "source": [
    "### Saving encoded training/validation data for visualizations"
   ]
  },
  {
   "cell_type": "code",
   "execution_count": 58,
   "metadata": {},
   "outputs": [],
   "source": [
    "df_encoded.to_csv('osteoporosis_processed_train_val.csv', index=False)"
   ]
  }
 ],
 "metadata": {
  "kernelspec": {
   "display_name": "Python 3 (ipykernel)",
   "language": "python",
   "name": "python3"
  },
  "language_info": {
   "codemirror_mode": {
    "name": "ipython",
    "version": 3
   },
   "file_extension": ".py",
   "mimetype": "text/x-python",
   "name": "python",
   "nbconvert_exporter": "python",
   "pygments_lexer": "ipython3",
   "version": "3.11.5"
  }
 },
 "nbformat": 4,
 "nbformat_minor": 2
}
